{
 "cells": [
  {
   "attachments": {},
   "cell_type": "markdown",
   "metadata": {},
   "source": [
    "# Module 11: Iterators and Generators"
   ]
  },
  {
   "attachments": {},
   "cell_type": "markdown",
   "metadata": {},
   "source": [
    "## Iterator\n",
    "- Used for lazy loading of items i.e. produce items or objects only when needed instead of storing in memory.\n",
    "- Any object from which the iter built-in function can obtain a iterator is iterable.\n",
    "- An iterator object must have \\_\\_iter__ and \\_\\_next implemented.\n",
    "- The \\_\\_next contains the logic to produce next element in the sequence.\n",
    "- Once all the elements are produced the \\_\\_next__ must raise an StopIteration exception\n",
    "- Python uses ducktyping. Eg: \\_\\_iter__ is a special method of a class while iter is a built in function.\n",
    "- The  \\_\\_iter__ of an object is actually called through the built in iter function. "
   ]
  },
  {
   "attachments": {},
   "cell_type": "markdown",
   "metadata": {},
   "source": [
    "### Range of numbers iterator"
   ]
  },
  {
   "cell_type": "code",
   "execution_count": 1,
   "metadata": {},
   "outputs": [
    {
     "data": {
      "text/plain": [
       "[1, 2, 3, 4, 5, 6, 7, 8, 9, 10]"
      ]
     },
     "execution_count": 1,
     "metadata": {},
     "output_type": "execute_result"
    }
   ],
   "source": [
    "class NumGen:\n",
    "        def __init__(self,start,stop):\n",
    "            self.start=start\n",
    "            self.stop=stop\n",
    "            self.__current=self.start\n",
    "        \n",
    "        def __iter__(self):\n",
    "            return self\n",
    "        \n",
    "        def __next__(self):\n",
    "            if(self.__current<self.stop):\n",
    "                self.__current+=1\n",
    "            else:\n",
    "                self.__current=self.start\n",
    "                raise StopIteration\n",
    "            \n",
    "            return self.__current\n",
    "\n",
    "list(NumGen(0,10))"
   ]
  },
  {
   "attachments": {},
   "cell_type": "markdown",
   "metadata": {},
   "source": [
    "### Fibonacci sequence using iterator"
   ]
  },
  {
   "cell_type": "code",
   "execution_count": 1,
   "metadata": {},
   "outputs": [
    {
     "name": "stdout",
     "output_type": "stream",
     "text": [
      "[0, 1, 1, 2, 3, 5, 8, 13, 21, 34, 55, 89, 144, 233, 377, 610, 987, 1597, 2584, 4181]\n"
     ]
    }
   ],
   "source": [
    "class FibGen:\n",
    "    def __init__(self,stop):\n",
    "        self.stop=stop\n",
    "        self.__n=0\n",
    "        self.__s=[0,1]\n",
    "\n",
    "    def __iter__(self):\n",
    "        return self\n",
    "\n",
    "    def __next__(self):\n",
    "        if(self.__n>=self.stop):\n",
    "            self.__init__(self.stop)\n",
    "            raise StopIteration\n",
    "\n",
    "        self.__s.append(sum(self.__s))\n",
    "        i=self.__s.pop(0)\n",
    "        self.__n+=1\n",
    "        return i\n",
    "        \n",
    "print(list(FibGen(20)))"
   ]
  },
  {
   "cell_type": "code",
   "execution_count": 2,
   "metadata": {},
   "outputs": [],
   "source": [
    "a=FibGen(20)"
   ]
  },
  {
   "cell_type": "code",
   "execution_count": 4,
   "metadata": {},
   "outputs": [],
   "source": [
    "a=iter(a)"
   ]
  },
  {
   "cell_type": "code",
   "execution_count": 5,
   "metadata": {},
   "outputs": [
    {
     "data": {
      "text/plain": [
       "<__main__.FibGen at 0x1606bce3f40>"
      ]
     },
     "execution_count": 5,
     "metadata": {},
     "output_type": "execute_result"
    }
   ],
   "source": [
    "a"
   ]
  },
  {
   "attachments": {},
   "cell_type": "markdown",
   "metadata": {},
   "source": [
    "# Yield Keyword\n",
    "- yield keyword is used like return in functions but the function when called actually returns a generator object.\n",
    "- A generator object is a iterator.\n",
    "- Use to produce the items only when needed "
   ]
  },
  {
   "attachments": {},
   "cell_type": "markdown",
   "metadata": {},
   "source": [
    "# Generator Function\n",
    "- Generator function uses the yield keyword.\n",
    "- It returns a generator object that is an iterator."
   ]
  },
  {
   "cell_type": "code",
   "execution_count": 3,
   "metadata": {},
   "outputs": [
    {
     "name": "stdout",
     "output_type": "stream",
     "text": [
      "[0, 1, 1, 2, 3, 5, 8, 13, 21, 34, 55, 89, 144, 233, 377, 610, 987, 1597, 2584, 4181]\n"
     ]
    }
   ],
   "source": [
    "def fib(stop):\n",
    "    a=[0,1]\n",
    "    n=0\n",
    "    while n<stop:\n",
    "        n+=1\n",
    "        a.append(sum(a))\n",
    "        yield a.pop(0)\n",
    "\n",
    "print(list(fib(20)))"
   ]
  }
 ],
 "metadata": {
  "kernelspec": {
   "display_name": "Python 3",
   "language": "python",
   "name": "python3"
  },
  "language_info": {
   "codemirror_mode": {
    "name": "ipython",
    "version": 3
   },
   "file_extension": ".py",
   "mimetype": "text/x-python",
   "name": "python",
   "nbconvert_exporter": "python",
   "pygments_lexer": "ipython3",
   "version": "3.9.5"
  },
  "orig_nbformat": 4,
  "vscode": {
   "interpreter": {
    "hash": "11938c6bc6919ae2720b4d5011047913343b08a43b18698fd82dedb0d4417594"
   }
  }
 },
 "nbformat": 4,
 "nbformat_minor": 2
}
