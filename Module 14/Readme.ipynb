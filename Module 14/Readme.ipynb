{
 "cells": [
  {
   "cell_type": "markdown",
   "metadata": {},
   "source": [
    "# Module 14: Object Oriented Programmings\n",
    "- OOP Concepts: Inheritance, Encapsulation, Polymorphism, Abstraction\n",
    "- Class Attributes and methods Instances\n",
    "- Inheritance: Overloading and Overriding, Single and multiple Inheritance\n",
    "- \\_\\_init__, \\_\\_str__ methods\n",
    "- Mixins\n",
    "- Name Mangling\n",
    "- Introspections\n",
    "- Abstract Class vs method overloading\n",
    "- Composition vs inheritance"
   ]
  },
  {
   "attachments": {},
   "cell_type": "markdown",
   "metadata": {},
   "source": [
    "### OOP concepts in Module 10\n",
    "### Polymorphism example in python"
   ]
  },
  {
   "cell_type": "code",
   "execution_count": 49,
   "metadata": {},
   "outputs": [
    {
     "name": "stdout",
     "output_type": "stream",
     "text": [
      "This is circle.\n",
      "This is rectangle.\n"
     ]
    }
   ],
   "source": [
    "class Shape:\n",
    "    def print(self):\n",
    "        raise NotImplementedError(\"Derived class must implement this on them.\")\n",
    "\n",
    "class Circle(Shape):\n",
    "    def print(self):\n",
    "        print(\"This is circle.\")\n",
    "\n",
    "class Rectangle(Shape):\n",
    "    def print(self):\n",
    "        print(\"This is rectangle.\")\n",
    "\n",
    "Circle().print()\n",
    "Rectangle().print()"
   ]
  },
  {
   "attachments": {},
   "cell_type": "markdown",
   "metadata": {},
   "source": [
    "## Class Attributes and methods Instances"
   ]
  },
  {
   "cell_type": "code",
   "execution_count": 12,
   "metadata": {},
   "outputs": [
    {
     "name": "stdout",
     "output_type": "stream",
     "text": [
      "Rectangle of color yellow \n",
      " Rectangle of color red\n",
      "True\n"
     ]
    }
   ],
   "source": [
    "class Rectangle:\n",
    "    name=\"Rectangle\"\n",
    "    def __init__(self):\n",
    "        self.color=None\n",
    "\n",
    "    def setcolor(self,color):\n",
    "        self.color=color\n",
    "    \n",
    "    def __repr__(self) -> str:\n",
    "        return f\"{self.name} of color {self.color}\"\n",
    "\n",
    "red_rectangle=Rectangle()\n",
    "red_rectangle.setcolor(\"red\")\n",
    "yellow_rectangle=Rectangle()\n",
    "yellow_rectangle.setcolor(\"yellow\")\n",
    "print(yellow_rectangle,'\\n',red_rectangle)\n",
    "print(red_rectangle.name is yellow_rectangle.name)\n"
   ]
  },
  {
   "attachments": {},
   "cell_type": "markdown",
   "metadata": {},
   "source": [
    "- In the above example the Rectangle class has a static variable called name and the object will have the attribute `name` as well as `color`.\n",
    "- The object will also have a method called `setcolor`.\n",
    "- The objects created called `red_rectangle` and `yellow_rectangle` will have the attribute `name` stored in same location i.e static variables are bound to classes while dynamic variables such as color are bound to objects."
   ]
  },
  {
   "attachments": {},
   "cell_type": "markdown",
   "metadata": {},
   "source": [
    "# `__init__`, `__str__` methods\n",
    "- `__init__` is a method to initialize the object that is created using `__new__` .\n",
    "- `__str__` method implements the method to represnt the object as string while type casting.\n",
    "- when displaying using `print` statement python tries to invoke    `__repr__` if not found it tries `__str__`"
   ]
  },
  {
   "cell_type": "code",
   "execution_count": 16,
   "metadata": {},
   "outputs": [
    {
     "name": "stdout",
     "output_type": "stream",
     "text": [
      "Person Hari is of 20\n",
      "Person Hari is of 20\n"
     ]
    }
   ],
   "source": [
    "class Person:\n",
    "    def __init__(self,name,age):\n",
    "        self.name=name\n",
    "        self.age=age\n",
    "    def __str__(self):\n",
    "        return f\"Person {self.name} is of {self.age}\"\n",
    "a=Person(\"Hari\",20)\n",
    "print(a)\n",
    "print(str(a))"
   ]
  },
  {
   "attachments": {},
   "cell_type": "markdown",
   "metadata": {},
   "source": [
    "## Mixins\n"
   ]
  },
  {
   "attachments": {},
   "cell_type": "markdown",
   "metadata": {},
   "source": [
    "- Mixin class may implement methods that use methods or attributes not defined within these classes.\n",
    "- The methods and attributes are defined in other classes so the instances of these Mixin classes can't be created independently.\n",
    "- These Mixin classes are used with multiple inheritence in other classes."
   ]
  },
  {
   "cell_type": "code",
   "execution_count": 21,
   "metadata": {},
   "outputs": [],
   "source": [
    "class Color:\n",
    "    def __init__(self,name):\n",
    "        self.color=name\n",
    "\n",
    "class Shape:\n",
    "    def __init__(self,name):\n",
    "        self.shape=name\n",
    "\n",
    "class Info:\n",
    "    def print(self):\n",
    "        print(f\"Shape {self.shape} has color {self.color}\")\n",
    "\n",
    "class ColoredShape(Color,Shape,Info):\n",
    "    def __init__(self, shape,color):\n",
    "        super().__init__(color)\n",
    "        super(Color,self).__init__(shape)\n"
   ]
  },
  {
   "cell_type": "code",
   "execution_count": 22,
   "metadata": {},
   "outputs": [
    {
     "name": "stdout",
     "output_type": "stream",
     "text": [
      "Shape Rectangle has color Red\n"
     ]
    }
   ],
   "source": [
    "ColoredShape(\"Rectangle\",\"Red\").print()"
   ]
  },
  {
   "attachments": {},
   "cell_type": "markdown",
   "metadata": {},
   "source": [
    "- Class `Info` didn't have the attributes `shape` and `color` so it had no meaning to instantiate a object of this class.\n",
    "- This class was used with  class `ColoredShape` with multiple inheritence.\n",
    "- The method `print` in class `Info` was then invoked by creating an object of the `ColoredShape`  "
   ]
  },
  {
   "attachments": {},
   "cell_type": "markdown",
   "metadata": {},
   "source": [
    "# Name Mangling\n",
    "- Python has no access identifiers as public,protected and private.\n",
    "- It folows a convention where `<var/method name>` is public,`_<var/method name>` is protected and `__<var/method name>` is private.\n",
    "- It is the responsibility of the programmer to use these convention in their program.\n",
    "- Name mangling means to destroy name i.e when we deifine a method or attribute as `__<var/method name>` it  can't be stored outside the methods with `<obj/cls>.__<var/method name>` but it can be only accessed with such representation inside the methods.\n",
    "- In python if we use the built in `dir` function to view these var/methods we see the private variables/methods stored as `_<class_name>__<var/meth name>` \n",
    " "
   ]
  },
  {
   "cell_type": "code",
   "execution_count": 41,
   "metadata": {},
   "outputs": [
    {
     "name": "stdout",
     "output_type": "stream",
     "text": [
      "Acessing outside the class.\n",
      "**Shouldn't be done.\n",
      "a._Acess__private:private\n",
      "Getting private attribute using a method-> private\n"
     ]
    }
   ],
   "source": [
    "class Acess:\n",
    "    def __init__(self):\n",
    "        self.public=\"public\"\n",
    "        self._protected=\"protected\"\n",
    "        self.__private=\"private\"\n",
    "    def get_vars(self):\n",
    "        return self.__private\n",
    "a=Acess()\n",
    "print(\"Acessing outside the class.\\n**Shouldn't be done.\")\n",
    "print(f'a._Acess__private:{a._Acess__private}')\n",
    "print(\"Getting private attribute using a method->\",a.get_vars())"
   ]
  },
  {
   "attachments": {},
   "cell_type": "markdown",
   "metadata": {},
   "source": [
    "## Introspections\n",
    "- Helps to examine python objects\\\n",
    "Some builtin function for introspections are:\n",
    " - type(): returns the type of object\n",
    " - dir(): lists all the methods and attributes\n",
    " - str(): returns string object\n",
    " - id(): returns a unique identifier that represents the memory address.\n",
    " - isinstance(): Checks if a object is an instance of a class.\n",
    " - issubclass(): checks if a class is derrived from another class."
   ]
  },
  {
   "cell_type": "code",
   "execution_count": 47,
   "metadata": {},
   "outputs": [
    {
     "name": "stdout",
     "output_type": "stream",
     "text": [
      "a is an instance of Shape: True\n",
      "Type of a is. <class '__main__.ColoredShape'>\n",
      "methods and attributes of a are ['__class__', '__delattr__', '__dict__', '__dir__', '__doc__', '__eq__', '__format__', '__ge__', '__getattribute__', '__gt__', '__hash__', '__init__', '__init_subclass__', '__le__', '__lt__', '__module__', '__ne__', '__new__', '__reduce__', '__reduce_ex__', '__repr__', '__setattr__', '__sizeof__', '__str__', '__subclasshook__', '__weakref__', 'color', 'print', 'shape']\n",
      "ColoredShape is a derrived class of Shape True\n"
     ]
    }
   ],
   "source": [
    "a=ColoredShape(\"Rectangle\",\"Red\")\n",
    "print(\"a is an instance of Shape:\",isinstance(ColoredShape(\"Rectangle\",\"Red\"),Shape))\n",
    "print(\"Type of a is.\",type(a))\n",
    "print(\"methods and attributes of a are\",dir(a))\n",
    "print(\"ColoredShape is a derrived class of Shape\",issubclass(ColoredShape,Shape))"
   ]
  },
  {
   "attachments": {},
   "cell_type": "markdown",
   "metadata": {},
   "source": [
    "## Abstract Class vs method overloading"
   ]
  },
  {
   "attachments": {},
   "cell_type": "markdown",
   "metadata": {},
   "source": [
    "- Abstract class are the blueprint which has the template of methods and attributes that can be used to form new classes.\n",
    "- The derrived class inherits this class as a base class and then overides the methods and attribites to implement the new features they are intended to.\n",
    "- See example of polymorphism at the top"
   ]
  },
  {
   "cell_type": "code",
   "execution_count": 50,
   "metadata": {},
   "outputs": [
    {
     "name": "stdout",
     "output_type": "stream",
     "text": [
      "This is circle.\n",
      "This is rectangle.\n"
     ]
    }
   ],
   "source": [
    "class Shape:\n",
    "    def print(self):\n",
    "        raise NotImplementedError(\"Derived class must implement this on them.\")\n",
    "\n",
    "class Circle(Shape):\n",
    "    def print(self):\n",
    "        print(\"This is circle.\")\n",
    "\n",
    "class Rectangle(Shape):\n",
    "    def print(self):\n",
    "        print(\"This is rectangle.\")\n",
    "\n",
    "Circle().print()\n",
    "Rectangle().print()"
   ]
  },
  {
   "attachments": {},
   "cell_type": "markdown",
   "metadata": {},
   "source": [
    "## Overloading"
   ]
  },
  {
   "attachments": {},
   "cell_type": "markdown",
   "metadata": {},
   "source": [
    "- Overloading can't be realized in python as in other OOP languages.\n",
    "- However default arguments and conditional statements may be used to realize it."
   ]
  },
  {
   "cell_type": "code",
   "execution_count": 64,
   "metadata": {},
   "outputs": [],
   "source": [
    "def mul(a,b):\n",
    "    if(type(a) is type(b) and isinstance(a,int)):\n",
    "        for _ in range(b):\n",
    "            a+=a\n",
    "    elif(isinstance(a,str) and isinstance(a,int)):\n",
    "        for _ in range(b):\n",
    "            a+=a\n",
    "    else:\n",
    "        raise NotImplementedError\n",
    "    return a"
   ]
  },
  {
   "cell_type": "code",
   "execution_count": 66,
   "metadata": {},
   "outputs": [
    {
     "name": "stdout",
     "output_type": "stream",
     "text": [
      "Multiplying integers 4\n",
      "Multiplying string and integers 4\n"
     ]
    }
   ],
   "source": [
    "print(\"Multiplying integers\",mul(1,2))\n",
    "print(\"Multiplying string and integers\",mul(1,2))"
   ]
  },
  {
   "cell_type": "code",
   "execution_count": 57,
   "metadata": {},
   "outputs": [
    {
     "data": {
      "text/plain": [
       "False"
      ]
     },
     "execution_count": 57,
     "metadata": {},
     "output_type": "execute_result"
    }
   ],
   "source": []
  },
  {
   "attachments": {},
   "cell_type": "markdown",
   "metadata": {},
   "source": [
    "## Composition vs inheritance"
   ]
  },
  {
   "attachments": {},
   "cell_type": "markdown",
   "metadata": {},
   "source": [
    "## Composition"
   ]
  },
  {
   "attachments": {},
   "cell_type": "markdown",
   "metadata": {},
   "source": [
    "- In composition the object has an attribute which is an instance of another class from which a object can access proerties of another class throyugh the object.\n",
    "- In inheritence the class actually possesses the properties of another class.\n",
    "- See inheritence in `Module 10`\n",
    "### Example of Composition"
   ]
  },
  {
   "cell_type": "code",
   "execution_count": 69,
   "metadata": {},
   "outputs": [
    {
     "name": "stdout",
     "output_type": "stream",
     "text": [
      "Address of Cotiviti is Hattisar,Kathmandu\n"
     ]
    }
   ],
   "source": [
    "class User:\n",
    "    def __init__(self,name,address):\n",
    "        self.name=name\n",
    "        self.address=address\n",
    "    \n",
    "    def print(self):\n",
    "        print(f\"Address of {self.name} is {self.address}\")\n",
    "\n",
    "class Address:\n",
    "    def __init__(self,city,street):\n",
    "        self.city=city\n",
    "        self.street=street\n",
    "\n",
    "    def __repr__(self):\n",
    "        return f\"{self.street},{self.city}\"\n",
    "\n",
    "User(\"Cotiviti\",Address(\"Kathmandu\",\"Hattisar\")).print()"
   ]
  },
  {
   "attachments": {},
   "cell_type": "markdown",
   "metadata": {},
   "source": [
    "### Inheritence\n",
    "- See in `Module 10`"
   ]
  },
  {
   "cell_type": "markdown",
   "metadata": {},
   "source": []
  }
 ],
 "metadata": {
  "kernelspec": {
   "display_name": "Python 3",
   "language": "python",
   "name": "python3"
  },
  "language_info": {
   "codemirror_mode": {
    "name": "ipython",
    "version": 3
   },
   "file_extension": ".py",
   "mimetype": "text/x-python",
   "name": "python",
   "nbconvert_exporter": "python",
   "pygments_lexer": "ipython3",
   "version": "3.9.5"
  },
  "orig_nbformat": 4,
  "vscode": {
   "interpreter": {
    "hash": "11938c6bc6919ae2720b4d5011047913343b08a43b18698fd82dedb0d4417594"
   }
  }
 },
 "nbformat": 4,
 "nbformat_minor": 2
}
