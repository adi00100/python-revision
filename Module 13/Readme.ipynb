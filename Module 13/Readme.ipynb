{
 "cells": [
  {
   "attachments": {},
   "cell_type": "markdown",
   "metadata": {},
   "source": [
    "# Module 13: Decorators\n",
    "- Higher Order Function\n",
    "- Introduction to decorators\n",
    "- Decorators with arguments\n",
    "- Function Decorators and Class decorators\n"
   ]
  },
  {
   "attachments": {},
   "cell_type": "markdown",
   "metadata": {},
   "source": [
    "# Higher Order Functions\n",
    "- A function is higher order function if it contains other functions(not anonymous/lambda) and returns a function as referrence"
   ]
  },
  {
   "attachments": {},
   "cell_type": "markdown",
   "metadata": {},
   "source": [
    "# Clousers\n",
    "- A clouser is a type of function in which the inner function can access and change the value of the outer scope"
   ]
  },
  {
   "attachments": {},
   "cell_type": "markdown",
   "metadata": {},
   "source": [
    "### Example\n",
    "- A clouser `averager` that returns the the inner function `add` which takes a number as an argument and adds it to the series defined in the outer scope and then returns an average\n",
    "- `nonlocal` was introduced in python3 so it was not possible to realize clouser in python2 completely\n",
    "- However in python2 the inner scope could read the variable in the outer scope but not modify it."
   ]
  },
  {
   "cell_type": "code",
   "execution_count": 45,
   "metadata": {},
   "outputs": [],
   "source": [
    "def averager():\n",
    "    series=[]\n",
    "    def add(n):\n",
    "        nonlocal series\n",
    "        series.append(n)\n",
    "        return sum(series)/len(series)\n",
    "    return add"
   ]
  },
  {
   "attachments": {},
   "cell_type": "markdown",
   "metadata": {},
   "source": [
    "- getting the reference to add function of the inner scope"
   ]
  },
  {
   "cell_type": "code",
   "execution_count": 46,
   "metadata": {},
   "outputs": [],
   "source": [
    "a=averager()"
   ]
  },
  {
   "cell_type": "code",
   "execution_count": 47,
   "metadata": {},
   "outputs": [
    {
     "data": {
      "text/plain": [
       "10.0"
      ]
     },
     "execution_count": 47,
     "metadata": {},
     "output_type": "execute_result"
    }
   ],
   "source": [
    "#ADDING 10 TO THE SERIES\n",
    "a(10)"
   ]
  },
  {
   "cell_type": "code",
   "execution_count": 48,
   "metadata": {},
   "outputs": [
    {
     "data": {
      "text/plain": [
       "15.0"
      ]
     },
     "execution_count": 48,
     "metadata": {},
     "output_type": "execute_result"
    }
   ],
   "source": [
    "#ADDING 20 TO THE SEQUENCE\n",
    "a(20)"
   ]
  },
  {
   "cell_type": "code",
   "execution_count": 49,
   "metadata": {},
   "outputs": [
    {
     "data": {
      "text/plain": [
       "20.0"
      ]
     },
     "execution_count": 49,
     "metadata": {},
     "output_type": "execute_result"
    }
   ],
   "source": [
    "#ADDING 30 TO THE SEQUENCE\n",
    "a(30)"
   ]
  },
  {
   "attachments": {},
   "cell_type": "markdown",
   "metadata": {},
   "source": [
    "# Decorators\n",
    "- Also known as wrapper pattern.\n",
    "- The decorator is construct which can be a function/class takes function/class as argumnet to be called as argument.\n",
    "- The decorator does some processing or adds some extra features before actually calling the function/class passed.\n"
   ]
  },
  {
   "attachments": {},
   "cell_type": "markdown",
   "metadata": {},
   "source": [
    "### Function Decorator\n",
    "- The decorator that does some processing before actually calling the function passed."
   ]
  },
  {
   "attachments": {},
   "cell_type": "markdown",
   "metadata": {},
   "source": [
    "### Example of a function used as a function decorator\n",
    "\n",
    "- Below `func_exec_time` is used as a decorator that tries to compute the time take to execute a function who uses this as a decorator\n",
    "- Here function `func_exec_time` is a function used as a decorator  for `num_range` so it is a function decorator and the `num_range` a decorated function.\n"
   ]
  },
  {
   "cell_type": "code",
   "execution_count": 55,
   "metadata": {},
   "outputs": [
    {
     "name": "stdout",
     "output_type": "stream",
     "text": [
      "Time taken to execute <function num_range at 0x000001EAC86E9790> is 0:00:00.122636\n"
     ]
    }
   ],
   "source": [
    "from datetime import datetime\n",
    "import time\n",
    "\n",
    "def func_exec_time(func):\n",
    "    def inner(*args,**kwargs):\n",
    "        start=datetime.now()\n",
    "        res=func(*args,**kwargs)\n",
    "        stop=datetime.now()\n",
    "        print(f\"Time taken to execute {func} is {stop-start}\")\n",
    "        return res\n",
    "    return inner\n",
    "\n",
    "@func_exec_time\n",
    "def num_range(start,stop,step):\n",
    "    return list(range(start,stop,step))\n",
    "\n",
    "\n",
    "a=num_range(0,10000000,2)\n"
   ]
  },
  {
   "attachments": {},
   "cell_type": "markdown",
   "metadata": {},
   "source": [
    "### Example of class used as function decorator\n",
    "- Here Time class is made callable using the `__call__` method where it calculates the time to execute the function with which the time would be initialized\n",
    "- Here class `Time` is used as a function decorator for function `sleep_for`"
   ]
  },
  {
   "cell_type": "code",
   "execution_count": 59,
   "metadata": {},
   "outputs": [
    {
     "name": "stdout",
     "output_type": "stream",
     "text": [
      "Time taken to execute <function sleep_for at 0x000001EAD5D66700> is 0:00:20.012576\n"
     ]
    }
   ],
   "source": [
    "import time\n",
    "from datetime import datetime\n",
    "class Time:\n",
    "    def __init__(self,func):\n",
    "        self.func=func\n",
    "\n",
    "    def __call__(self,*args,**kwargs):\n",
    "        start=datetime.now()\n",
    "        self.func(*args,**kwargs)\n",
    "        stop=datetime.now()\n",
    "        print(f\"Time taken to execute {self.func} is {stop-start}\")\n",
    "\n",
    "@Time\n",
    "def sleep_for(n):\n",
    "    time.sleep(n)\n",
    "\n",
    "sleep_for(20)        "
   ]
  },
  {
   "attachments": {},
   "cell_type": "markdown",
   "metadata": {},
   "source": [
    "## Class Decorator\n",
    "- A decorator that is used to decorate a class i.e before instantiatig a object or performing any operations within the class which could be invoking static method the decorator does some additional process and returns a class/func\n",
    "### Example of function used as class decorator\n",
    "- `singleton` is a function that is used as a class decorator for `A`.\n",
    "- `singleton` maintains the dictionary instances which maps class to the objects created.\n",
    "- the inner function  `control` actually controls the instantiation of the objects from the given class."
   ]
  },
  {
   "cell_type": "code",
   "execution_count": 14,
   "metadata": {},
   "outputs": [
    {
     "name": "stdout",
     "output_type": "stream",
     "text": [
      "1587521750928\n",
      "1587521750928\n",
      "No instance of <class '__main__.A'> has been created so creating a new object.\n",
      "Object of object <class '__main__.A'> has been created so returning the previous object\n",
      "True\n"
     ]
    }
   ],
   "source": [
    "def singleton(cls):\n",
    "    instance=None\n",
    "    def control(*args,**kwargs):\n",
    "        nonlocal instance\n",
    "        if(not instance):\n",
    "            print(f\"No instance of {cls} has been created so creating a new object.\")\n",
    "            instance=cls(*args,**kwargs)\n",
    "        else:\n",
    "            print(f\"Object of object {cls} has been created so returning the previous object\")\n",
    "            \n",
    "        return instance\n",
    "    print(id(control))        \n",
    "    return control\n",
    "\n",
    "@singleton    \n",
    "class A:\n",
    "    def __init__(self,msg):\n",
    "        self.msg=msg\n",
    "\n",
    "\n",
    "\n",
    "print(id(A))\n",
    "a=A(\"This should be the first instance.\")\n",
    "b=A(\"This should be the second instance\")\n",
    "print(a is b)\n",
    "\n"
   ]
  },
  {
   "attachments": {},
   "cell_type": "markdown",
   "metadata": {},
   "source": [
    "# Example where class is used as a class decorator\n",
    "- `control` logic of the above example is implemented in `__call__`"
   ]
  },
  {
   "cell_type": "code",
   "execution_count": 66,
   "metadata": {},
   "outputs": [
    {
     "name": "stdout",
     "output_type": "stream",
     "text": [
      "No instance of <class '__main__.A'> has been created so creating a new object.\n",
      "Object of object <class '__main__.A'> has been created so returning the previous object\n",
      "True\n",
      "This should be the first instance.\n",
      "This should be the first instance.\n"
     ]
    }
   ],
   "source": [
    "class Singleton:\n",
    "    #static variable to store instances\n",
    "    __instances={}\n",
    "    def __init__(self,cls):\n",
    "        self.cls=cls\n",
    "    \n",
    "    def __call__(self,*args,**kwargs):\n",
    "        if(not self.__instances.setdefault(self.cls)):\n",
    "            print(f\"No instance of {self.cls} has been created so creating a new object.\")\n",
    "            self.__instances[self.cls]=self.cls(*args,**kwargs)\n",
    "        else:\n",
    "            print(f\"Object of object {self.cls} has been created so returning the previous object\")\n",
    "\n",
    "        return self.__instances[self.cls]\n",
    "\n",
    "@Singleton    \n",
    "class A:\n",
    "    def __init__(self,msg):\n",
    "        self.msg=msg\n",
    "\n",
    "a=A(\"This should be the first instance.\")\n",
    "b=A(\"This should be the second instance\")\n",
    "print(a is b,a.msg,b.msg,sep='\\n')"
   ]
  },
  {
   "cell_type": "code",
   "execution_count": null,
   "metadata": {},
   "outputs": [],
   "source": []
  }
 ],
 "metadata": {
  "kernelspec": {
   "display_name": "Python 3",
   "language": "python",
   "name": "python3"
  },
  "language_info": {
   "codemirror_mode": {
    "name": "ipython",
    "version": 3
   },
   "file_extension": ".py",
   "mimetype": "text/x-python",
   "name": "python",
   "nbconvert_exporter": "python",
   "pygments_lexer": "ipython3",
   "version": "3.9.5"
  },
  "orig_nbformat": 4,
  "vscode": {
   "interpreter": {
    "hash": "11938c6bc6919ae2720b4d5011047913343b08a43b18698fd82dedb0d4417594"
   }
  }
 },
 "nbformat": 4,
 "nbformat_minor": 2
}
